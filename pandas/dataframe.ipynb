{
 "cells": [
  {
   "cell_type": "code",
   "execution_count": 1,
   "metadata": {},
   "outputs": [],
   "source": [
    "import numpy as np\n",
    "import pandas as pd"
   ]
  },
  {
   "cell_type": "code",
   "execution_count": 4,
   "metadata": {},
   "outputs": [
    {
     "name": "stdout",
     "output_type": "stream",
     "text": [
      "   iq  marks  package\n",
      "0  95     77       72\n",
      "1  73     55       56\n",
      "2  28     18       48\n",
      "3  92     40       98\n"
     ]
    }
   ],
   "source": [
    "# dataframe using list\n",
    "arr = np.random.randint(low = 10, high = 101, size = 12).reshape((4, 3))\n",
    "\n",
    "dataFrame = pd.DataFrame(arr, columns = [\"iq\", 'marks', 'package'])\n",
    "print(dataFrame)"
   ]
  }
 ],
 "metadata": {
  "kernelspec": {
   "display_name": "Python 3",
   "language": "python",
   "name": "python3"
  },
  "language_info": {
   "codemirror_mode": {
    "name": "ipython",
    "version": 3
   },
   "file_extension": ".py",
   "mimetype": "text/x-python",
   "name": "python",
   "nbconvert_exporter": "python",
   "pygments_lexer": "ipython3",
   "version": "3.12.7"
  }
 },
 "nbformat": 4,
 "nbformat_minor": 2
}
