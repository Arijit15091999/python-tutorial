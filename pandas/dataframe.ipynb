{
 "cells": [
  {
   "cell_type": "code",
   "execution_count": 1,
   "metadata": {},
   "outputs": [],
   "source": [
    "import numpy as np\n",
    "import pandas as pd"
   ]
  },
  {
   "cell_type": "code",
   "execution_count": 4,
   "metadata": {},
   "outputs": [
    {
     "name": "stdout",
     "output_type": "stream",
     "text": [
      "   iq  marks  package\n",
      "0  95     77       72\n",
      "1  73     55       56\n",
      "2  28     18       48\n",
      "3  92     40       98\n"
     ]
    }
   ],
   "source": [
    "# dataframe using list\n",
    "arr = np.random.randint(low = 10, high = 101, size = 12).reshape((4, 3))\n",
    "\n",
    "dataFrame = pd.DataFrame(arr, columns = [\"iq\", 'marks', 'package'])\n",
    "print(dataFrame)"
   ]
  },
  {
   "cell_type": "code",
   "execution_count": 5,
   "metadata": {},
   "outputs": [
    {
     "name": "stdout",
     "output_type": "stream",
     "text": [
      "   iq  marks  package\n",
      "0  63     12       12\n",
      "1  65     65       56\n",
      "2  25     98       76\n",
      "3  89     43       54\n"
     ]
    }
   ],
   "source": [
    "# using dict\n",
    "student_dict = {\n",
    "    'iq': [63, 65, 25, 89],\n",
    "    'marks': [12, 65, 98, 43],\n",
    "    'package': [12, 56, 76, 54]\n",
    "}\n",
    "\n",
    "dataFrame = pd.DataFrame(student_dict)\n",
    "\n",
    "print(dataFrame)"
   ]
  },
  {
   "cell_type": "code",
   "execution_count": 9,
   "metadata": {},
   "outputs": [
    {
     "name": "stdout",
     "output_type": "stream",
     "text": [
      "      Unnamed: 0     Date        Open        High         Low       Close  \\\n",
      "0              0  6/29/10    1.266667    1.666667    1.169333    1.592667   \n",
      "1              1  6/30/10    1.719333    2.028000    1.553333    1.588667   \n",
      "2              2   7/1/10    1.666667    1.728000    1.351333    1.464000   \n",
      "3              3   7/2/10    1.533333    1.540000    1.247333    1.280000   \n",
      "4              4   7/6/10    1.333333    1.333333    1.055333    1.074000   \n",
      "...          ...      ...         ...         ...         ...         ...   \n",
      "3632        3632  12/3/24  351.799988  355.690002  348.200012  351.420013   \n",
      "3633        3633  12/4/24  353.000000  358.100006  348.600006  357.929993   \n",
      "3634        3634  12/5/24  359.869995  375.429993  359.500000  369.489990   \n",
      "3635        3635  12/6/24  377.420013  389.489990  370.799988  389.220001   \n",
      "3636        3636  12/9/24  397.609985  404.799988  378.010010  389.790008   \n",
      "\n",
      "       Adj Close     Volume  \n",
      "0       1.592667  281494500  \n",
      "1       1.588667  257806500  \n",
      "2       1.464000  123282000  \n",
      "3       1.280000   77097000  \n",
      "4       1.074000  103003500  \n",
      "...          ...        ...  \n",
      "3632  351.420013   58267200  \n",
      "3633  357.929993   50810900  \n",
      "3634  369.489990   81403600  \n",
      "3635  389.220001   81455800  \n",
      "3636  389.790008   96359200  \n",
      "\n",
      "[3637 rows x 8 columns]\n"
     ]
    }
   ],
   "source": [
    "teslaDataFrame    = pd.read_csv(filepath_or_buffer = \"../TESLA.csv\")\n",
    "# print(type(dataFrame))\n",
    "\n",
    "print(teslaDataFrame)"
   ]
  },
  {
   "cell_type": "code",
   "execution_count": 13,
   "metadata": {},
   "outputs": [
    {
     "name": "stdout",
     "output_type": "stream",
     "text": [
      "<class 'pandas.core.frame.DataFrame'>\n",
      "RangeIndex: 3637 entries, 0 to 3636\n",
      "Data columns (total 8 columns):\n",
      " #   Column      Non-Null Count  Dtype  \n",
      "---  ------      --------------  -----  \n",
      " 0   Unnamed: 0  3637 non-null   int64  \n",
      " 1   Date        3637 non-null   object \n",
      " 2   Open        3637 non-null   float64\n",
      " 3   High        3637 non-null   float64\n",
      " 4   Low         3637 non-null   float64\n",
      " 5   Close       3637 non-null   float64\n",
      " 6   Adj Close   3637 non-null   float64\n",
      " 7   Volume      3637 non-null   int64  \n",
      "dtypes: float64(5), int64(2), object(1)\n",
      "memory usage: 227.4+ KB\n"
     ]
    }
   ],
   "source": [
    "teslaDataFrame.shape\n",
    "\n",
    "teslaDataFrame.info(verbose=True)"
   ]
  }
 ],
 "metadata": {
  "kernelspec": {
   "display_name": "Python 3",
   "language": "python",
   "name": "python3"
  },
  "language_info": {
   "codemirror_mode": {
    "name": "ipython",
    "version": 3
   },
   "file_extension": ".py",
   "mimetype": "text/x-python",
   "name": "python",
   "nbconvert_exporter": "python",
   "pygments_lexer": "ipython3",
   "version": "3.12.7"
  }
 },
 "nbformat": 4,
 "nbformat_minor": 2
}
