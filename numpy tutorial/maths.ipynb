{
 "cells": [
  {
   "cell_type": "code",
   "execution_count": 6,
   "metadata": {},
   "outputs": [
    {
     "name": "stdout",
     "output_type": "stream",
     "text": [
      "[0.5        0.73105858 0.88079708 0.95257413 0.98201379 0.99330715\n",
      " 0.99752738 0.99908895 0.99966465 0.99987661 0.9999546  0.9999833 ]\n"
     ]
    }
   ],
   "source": [
    "import numpy as np\n",
    "\n",
    "a = np.arange(12)\n",
    "\n",
    "# print(-a)\n",
    "\n",
    "def sigmoid(array):\n",
    "    return 1/ (1 + np.exp(-array))\n",
    "\n",
    "print(sigmoid(a))"
   ]
  },
  {
   "cell_type": "markdown",
   "metadata": {},
   "source": [
    "# Mean Square Error"
   ]
  },
  {
   "cell_type": "code",
   "execution_count": 12,
   "metadata": {},
   "outputs": [
    {
     "name": "stdout",
     "output_type": "stream",
     "text": [
      "1542.48\n"
     ]
    }
   ],
   "source": [
    "actual = np.random.randint(0, 100, 25)\n",
    "predictated = np.random.randint(0, 100, 25)\n",
    "\n",
    "# print(actual, predictated)\n",
    "\n",
    "def mse(actual, predictated):\n",
    "    return np.mean((actual - predictated) ** 2)\n",
    "\n",
    "print(mse(actual, predictated))"
   ]
  },
  {
   "cell_type": "markdown",
   "metadata": {},
   "source": [
    "# Binary Cross Entropy\n",
    "\n",
    "$$\n",
    "L = -\\frac{1}{N} \\sum_{i=1}^{N} \\left[ y_i \\log(p_i) + (1 - y_i) \\log(1 - p_i) \\right]\n",
    "$$\n",
    "\n"
   ]
  },
  {
   "cell_type": "code",
   "execution_count": 14,
   "metadata": {},
   "outputs": [
    {
     "name": "stdout",
     "output_type": "stream",
     "text": [
      "0.18913199175146167\n"
     ]
    }
   ],
   "source": [
    "def binaryCrossEntropy(predictated_probalibily, true_lable):\n",
    "    return - np.mean(true_lable * np.log(predictated_probalibily) +\n",
    "    (1 - true_lable) * np.log(1 - predictated_probalibily))\n",
    "\n",
    "y = np.array([0,1,0])\n",
    "p = np.array([0.1,0.9,0.3])\n",
    "\n",
    "print(binaryCrossEntropy(predictated_probalibily = p, true_lable = y))\n"
   ]
  }
 ],
 "metadata": {
  "kernelspec": {
   "display_name": "Python 3",
   "language": "python",
   "name": "python3"
  },
  "language_info": {
   "codemirror_mode": {
    "name": "ipython",
    "version": 3
   },
   "file_extension": ".py",
   "mimetype": "text/x-python",
   "name": "python",
   "nbconvert_exporter": "python",
   "pygments_lexer": "ipython3",
   "version": "3.12.7"
  }
 },
 "nbformat": 4,
 "nbformat_minor": 2
}
